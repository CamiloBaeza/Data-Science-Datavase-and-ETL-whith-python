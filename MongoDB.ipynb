{
 "cells": [
  {
   "cell_type": "markdown",
   "id": "cc0bfdc4",
   "metadata": {},
   "source": [
    "## Demo MongoDB"
   ]
  },
  {
   "cell_type": "code",
   "execution_count": 1,
   "id": "98c41b60",
   "metadata": {},
   "outputs": [
    {
     "name": "stdout",
     "output_type": "stream",
     "text": [
      "Defaulting to user installation because normal site-packages is not writeable\n",
      "Requirement already satisfied: pymongo in c:\\users\\camilo raúl\\appdata\\roaming\\python\\python39\\site-packages (4.2.0)\n"
     ]
    }
   ],
   "source": [
    "!pip3 install pymongo"
   ]
  },
  {
   "cell_type": "markdown",
   "id": "fad230d1",
   "metadata": {},
   "source": [
    "### CRUD - MongoDB"
   ]
  },
  {
   "cell_type": "code",
   "execution_count": 25,
   "id": "ea56fc5e",
   "metadata": {},
   "outputs": [
    {
     "data": {
      "text/plain": [
       "'4.2.0'"
      ]
     },
     "execution_count": 25,
     "metadata": {},
     "output_type": "execute_result"
    }
   ],
   "source": [
    "import pymongo\n",
    "from datetime import datetime\n",
    "\n",
    "pymongo.__version__"
   ]
  },
  {
   "cell_type": "code",
   "execution_count": 26,
   "id": "019285eb",
   "metadata": {},
   "outputs": [
    {
     "name": "stdout",
     "output_type": "stream",
     "text": [
      "connecting to MongoDB server...\n",
      "connected\n"
     ]
    }
   ],
   "source": [
    "print('connecting to MongoDB server...')\n",
    "db = pymongo.MongoClient(\"mongodb://localhost:27017/\")\n",
    "\n",
    "print('connected')"
   ]
  },
  {
   "cell_type": "code",
   "execution_count": 27,
   "id": "bfa64b43",
   "metadata": {},
   "outputs": [],
   "source": [
    "# create database. MongoDB does not create a database until we create content\n",
    "mydb = db[\"pydb\"]"
   ]
  },
  {
   "cell_type": "code",
   "execution_count": 28,
   "id": "9baede3c",
   "metadata": {},
   "outputs": [
    {
     "data": {
      "text/plain": [
       "['admin', 'config', 'local', 'pydb']"
      ]
     },
     "execution_count": 28,
     "metadata": {},
     "output_type": "execute_result"
    }
   ],
   "source": [
    "dbs = db.list_database_names()\n",
    "dbs"
   ]
  },
  {
   "cell_type": "code",
   "execution_count": 29,
   "id": "42d1b46d",
   "metadata": {},
   "outputs": [],
   "source": [
    "# create collection ~ table\n",
    "# a collection is not created until it gets content\n",
    "colproducts = mydb[\"products\"]"
   ]
  },
  {
   "cell_type": "code",
   "execution_count": 30,
   "id": "13447b5a",
   "metadata": {},
   "outputs": [
    {
     "data": {
      "text/plain": [
       "['products']"
      ]
     },
     "execution_count": 30,
     "metadata": {},
     "output_type": "execute_result"
    }
   ],
   "source": [
    "# listing of collections\n",
    "colls = mydb.list_collection_names()\n",
    "colls"
   ]
  },
  {
   "cell_type": "code",
   "execution_count": 31,
   "id": "2e959f0f",
   "metadata": {},
   "outputs": [],
   "source": [
    "def create_data(coll):\n",
    "    print('inserting data...')\n",
    "    for i in range(1,5):\n",
    "        product = {\n",
    "            \"name\": \"product \" + str(i),\n",
    "            \"code\": \"F2\" + str(i),\n",
    "            \"price\": i*0.21,\n",
    "            \"quantity\": i + 5,\n",
    "            \"created\": datetime.now()\n",
    "        }       \n",
    "        item = coll.insert_one(product)\n",
    "        inserted_id = item.inserted_id\n",
    "        print('inserted with id=',inserted_id)\n",
    "\n",
    "    print('done')"
   ]
  },
  {
   "cell_type": "code",
   "execution_count": 32,
   "id": "9f47ddef",
   "metadata": {},
   "outputs": [
    {
     "name": "stdout",
     "output_type": "stream",
     "text": [
      "inserting data...\n",
      "inserted with id= 6334aec3bcc841c31b475acd\n",
      "inserted with id= 6334aec3bcc841c31b475ace\n",
      "inserted with id= 6334aec3bcc841c31b475acf\n",
      "inserted with id= 6334aec3bcc841c31b475ad0\n",
      "done\n"
     ]
    }
   ],
   "source": [
    "create_data(colproducts)"
   ]
  },
  {
   "cell_type": "code",
   "execution_count": 33,
   "id": "6a002cf8",
   "metadata": {},
   "outputs": [
    {
     "name": "stdout",
     "output_type": "stream",
     "text": [
      "[ObjectId('6334aec5bcc841c31b475ad1'), ObjectId('6334aec5bcc841c31b475ad2'), ObjectId('6334aec5bcc841c31b475ad3'), ObjectId('6334aec5bcc841c31b475ad4'), ObjectId('6334aec5bcc841c31b475ad5')]\n"
     ]
    }
   ],
   "source": [
    "# insert multiple data\n",
    "products = [\n",
    "    {\"name\": \"product 100\",\"code\": \"F51\",\"price\": 2.5,\"quantity\": 10,\"created\": datetime.now()},\n",
    "    {\"name\": \"product 101\",\"code\": \"F52\",\"price\": 3.5,\"quantity\": 12,\"created\": datetime.now()},\n",
    "    {\"name\": \"product 102\",\"code\": \"F53\",\"price\": 4.5,\"quantity\": 14,\"created\": datetime.now()},\n",
    "    {\"name\": \"product 103\",\"code\": \"F54\",\"price\": 5.5,\"quantity\": 16,\"created\": datetime.now()},\n",
    "    {\"name\": \"product 104\",\"code\": \"F55\",\"price\": 6.5,\"quantity\": 18,\"created\": datetime.now()},\n",
    "]\n",
    "\n",
    "items = colproducts.insert_many(products)\n",
    "print(items.inserted_ids)"
   ]
  },
  {
   "cell_type": "code",
   "execution_count": 34,
   "id": "feb0bac0",
   "metadata": {},
   "outputs": [],
   "source": [
    "def read_data(coll):\n",
    "    print('reading data....')\n",
    "    selected_id = None\n",
    "    for item in coll.find():\n",
    "        print(\"{}, {}, {}, {}, {}, {:%d %b %Y %H:%M:%S}\".format(\n",
    "                item['_id'], item['name'], item['code'], item['price'], item['quantity'], item['created']))\n",
    "        if selected_id is None:\n",
    "            selected_id = item['_id']\n",
    "\n",
    "    print('done')\n",
    "    return selected_id"
   ]
  },
  {
   "cell_type": "code",
   "execution_count": 35,
   "id": "a47ea8c9",
   "metadata": {},
   "outputs": [
    {
     "name": "stdout",
     "output_type": "stream",
     "text": [
      "reading data....\n",
      "6334aec3bcc841c31b475acd, product 1, F21, 0.21, 6, 28 Sep 2022 17:29:55\n",
      "6334aec3bcc841c31b475ace, product 2, F22, 0.42, 7, 28 Sep 2022 17:29:55\n",
      "6334aec3bcc841c31b475acf, product 3, F23, 0.63, 8, 28 Sep 2022 17:29:55\n",
      "6334aec3bcc841c31b475ad0, product 4, F24, 0.84, 9, 28 Sep 2022 17:29:55\n",
      "6334aec5bcc841c31b475ad1, product 100, F51, 2.5, 10, 28 Sep 2022 17:29:57\n",
      "6334aec5bcc841c31b475ad2, product 101, F52, 3.5, 12, 28 Sep 2022 17:29:57\n",
      "6334aec5bcc841c31b475ad3, product 102, F53, 4.5, 14, 28 Sep 2022 17:29:57\n",
      "6334aec5bcc841c31b475ad4, product 103, F54, 5.5, 16, 28 Sep 2022 17:29:57\n",
      "6334aec5bcc841c31b475ad5, product 104, F55, 6.5, 18, 28 Sep 2022 17:29:57\n",
      "done\n"
     ]
    }
   ],
   "source": [
    "selected_id = read_data(colproducts)"
   ]
  },
  {
   "cell_type": "code",
   "execution_count": 36,
   "id": "62dd6603",
   "metadata": {},
   "outputs": [
    {
     "data": {
      "text/plain": [
       "ObjectId('6334aec3bcc841c31b475acd')"
      ]
     },
     "execution_count": 36,
     "metadata": {},
     "output_type": "execute_result"
    }
   ],
   "source": [
    "selected_id"
   ]
  },
  {
   "cell_type": "code",
   "execution_count": 14,
   "id": "707c4ad7",
   "metadata": {},
   "outputs": [],
   "source": [
    "def update_data(coll, id):\n",
    "    print('updating data with idproduct=', id, '...')\n",
    "    updated_data = {\n",
    "        \"price\": \"9.99\",\n",
    "        \"quantity\": 100\n",
    "    }\n",
    "    coll.update_one({\"_id\":id},{\"$set\":updated_data})    \n",
    "    print('done')"
   ]
  },
  {
   "cell_type": "code",
   "execution_count": 15,
   "id": "3787ec18",
   "metadata": {},
   "outputs": [
    {
     "name": "stdout",
     "output_type": "stream",
     "text": [
      "updating data with idproduct= 6334ae97bcc841c31b475ac3 ...\n",
      "done\n"
     ]
    }
   ],
   "source": [
    "update_data(colproducts, selected_id)"
   ]
  },
  {
   "cell_type": "code",
   "execution_count": 16,
   "id": "57b2d7ed",
   "metadata": {},
   "outputs": [
    {
     "name": "stdout",
     "output_type": "stream",
     "text": [
      "reading data....\n",
      "6334ae97bcc841c31b475ac3, product 1, F21, 9.99, 100, 28 Sep 2022 17:29:11\n",
      "6334ae97bcc841c31b475ac4, product 2, F22, 0.42, 7, 28 Sep 2022 17:29:11\n",
      "6334ae97bcc841c31b475ac5, product 3, F23, 0.63, 8, 28 Sep 2022 17:29:11\n",
      "6334ae97bcc841c31b475ac6, product 4, F24, 0.84, 9, 28 Sep 2022 17:29:11\n",
      "6334ae98bcc841c31b475ac7, product 100, F51, 2.5, 10, 28 Sep 2022 17:29:12\n",
      "6334ae98bcc841c31b475ac8, product 101, F52, 3.5, 12, 28 Sep 2022 17:29:12\n",
      "6334ae98bcc841c31b475ac9, product 102, F53, 4.5, 14, 28 Sep 2022 17:29:12\n",
      "6334ae98bcc841c31b475aca, product 103, F54, 5.5, 16, 28 Sep 2022 17:29:12\n",
      "6334ae98bcc841c31b475acb, product 104, F55, 6.5, 18, 28 Sep 2022 17:29:12\n",
      "done\n"
     ]
    },
    {
     "data": {
      "text/plain": [
       "ObjectId('6334ae97bcc841c31b475ac3')"
      ]
     },
     "execution_count": 16,
     "metadata": {},
     "output_type": "execute_result"
    }
   ],
   "source": [
    "read_data(colproducts)"
   ]
  },
  {
   "cell_type": "code",
   "execution_count": 17,
   "id": "e0d5bf36",
   "metadata": {},
   "outputs": [],
   "source": [
    "def delete_data(coll, id):\n",
    "    print('deleting data on idproduct=', id, '...')\n",
    "    coll.delete_one({\"_id\":id})    \n",
    "    print('done')"
   ]
  },
  {
   "cell_type": "code",
   "execution_count": 18,
   "id": "60c8c61c",
   "metadata": {},
   "outputs": [
    {
     "name": "stdout",
     "output_type": "stream",
     "text": [
      "deleting data on idproduct= 6334ae97bcc841c31b475ac3 ...\n",
      "done\n"
     ]
    }
   ],
   "source": [
    "delete_data(colproducts, selected_id)"
   ]
  },
  {
   "cell_type": "code",
   "execution_count": 19,
   "id": "300e6497",
   "metadata": {},
   "outputs": [
    {
     "name": "stdout",
     "output_type": "stream",
     "text": [
      "reading data....\n",
      "6334ae97bcc841c31b475ac4, product 2, F22, 0.42, 7, 28 Sep 2022 17:29:11\n",
      "6334ae97bcc841c31b475ac5, product 3, F23, 0.63, 8, 28 Sep 2022 17:29:11\n",
      "6334ae97bcc841c31b475ac6, product 4, F24, 0.84, 9, 28 Sep 2022 17:29:11\n",
      "6334ae98bcc841c31b475ac7, product 100, F51, 2.5, 10, 28 Sep 2022 17:29:12\n",
      "6334ae98bcc841c31b475ac8, product 101, F52, 3.5, 12, 28 Sep 2022 17:29:12\n",
      "6334ae98bcc841c31b475ac9, product 102, F53, 4.5, 14, 28 Sep 2022 17:29:12\n",
      "6334ae98bcc841c31b475aca, product 103, F54, 5.5, 16, 28 Sep 2022 17:29:12\n",
      "6334ae98bcc841c31b475acb, product 104, F55, 6.5, 18, 28 Sep 2022 17:29:12\n",
      "done\n"
     ]
    },
    {
     "data": {
      "text/plain": [
       "ObjectId('6334ae97bcc841c31b475ac4')"
      ]
     },
     "execution_count": 19,
     "metadata": {},
     "output_type": "execute_result"
    }
   ],
   "source": [
    "read_data(colproducts)"
   ]
  },
  {
   "cell_type": "code",
   "execution_count": 20,
   "id": "d689fa04",
   "metadata": {},
   "outputs": [],
   "source": [
    "def delete_all(coll):\n",
    "    print('deleting all data....')\n",
    "    items = coll.delete_many({})\n",
    "    print(items.deleted_count, \" documents deleted.\")\n",
    "    print('done')"
   ]
  },
  {
   "cell_type": "code",
   "execution_count": 21,
   "id": "615e03bf",
   "metadata": {},
   "outputs": [
    {
     "name": "stdout",
     "output_type": "stream",
     "text": [
      "deleting all data....\n",
      "8  documents deleted.\n",
      "done\n"
     ]
    }
   ],
   "source": [
    "delete_all(colproducts)"
   ]
  },
  {
   "cell_type": "code",
   "execution_count": 22,
   "id": "ef49ec3f",
   "metadata": {},
   "outputs": [
    {
     "name": "stdout",
     "output_type": "stream",
     "text": [
      "reading data....\n",
      "done\n"
     ]
    }
   ],
   "source": [
    "read_data(colproducts)"
   ]
  },
  {
   "cell_type": "code",
   "execution_count": 23,
   "id": "f6e73481",
   "metadata": {},
   "outputs": [
    {
     "name": "stdout",
     "output_type": "stream",
     "text": [
      "closed connection\n"
     ]
    }
   ],
   "source": [
    "db.close()\n",
    "print('closed connection')"
   ]
  },
  {
   "cell_type": "markdown",
   "id": "ea3b365d",
   "metadata": {},
   "source": [
    "## MongoDB - Pandas\n",
    "\n",
    "\n",
    "sqlalchemy does not support for NoSQL like MongoDB"
   ]
  },
  {
   "cell_type": "code",
   "execution_count": 37,
   "id": "2aaabbfb",
   "metadata": {},
   "outputs": [
    {
     "data": {
      "text/html": [
       "<div>\n",
       "<style scoped>\n",
       "    .dataframe tbody tr th:only-of-type {\n",
       "        vertical-align: middle;\n",
       "    }\n",
       "\n",
       "    .dataframe tbody tr th {\n",
       "        vertical-align: top;\n",
       "    }\n",
       "\n",
       "    .dataframe thead th {\n",
       "        text-align: right;\n",
       "    }\n",
       "</style>\n",
       "<table border=\"1\" class=\"dataframe\">\n",
       "  <thead>\n",
       "    <tr style=\"text-align: right;\">\n",
       "      <th></th>\n",
       "      <th>_id</th>\n",
       "      <th>name</th>\n",
       "      <th>code</th>\n",
       "      <th>price</th>\n",
       "      <th>quantity</th>\n",
       "      <th>created</th>\n",
       "    </tr>\n",
       "  </thead>\n",
       "  <tbody>\n",
       "    <tr>\n",
       "      <th>0</th>\n",
       "      <td>6334aec3bcc841c31b475acd</td>\n",
       "      <td>product 1</td>\n",
       "      <td>F21</td>\n",
       "      <td>0.21</td>\n",
       "      <td>6</td>\n",
       "      <td>2022-09-28 17:29:55.640</td>\n",
       "    </tr>\n",
       "    <tr>\n",
       "      <th>1</th>\n",
       "      <td>6334aec3bcc841c31b475ace</td>\n",
       "      <td>product 2</td>\n",
       "      <td>F22</td>\n",
       "      <td>0.42</td>\n",
       "      <td>7</td>\n",
       "      <td>2022-09-28 17:29:55.642</td>\n",
       "    </tr>\n",
       "    <tr>\n",
       "      <th>2</th>\n",
       "      <td>6334aec3bcc841c31b475acf</td>\n",
       "      <td>product 3</td>\n",
       "      <td>F23</td>\n",
       "      <td>0.63</td>\n",
       "      <td>8</td>\n",
       "      <td>2022-09-28 17:29:55.644</td>\n",
       "    </tr>\n",
       "    <tr>\n",
       "      <th>3</th>\n",
       "      <td>6334aec3bcc841c31b475ad0</td>\n",
       "      <td>product 4</td>\n",
       "      <td>F24</td>\n",
       "      <td>0.84</td>\n",
       "      <td>9</td>\n",
       "      <td>2022-09-28 17:29:55.645</td>\n",
       "    </tr>\n",
       "    <tr>\n",
       "      <th>4</th>\n",
       "      <td>6334aec5bcc841c31b475ad1</td>\n",
       "      <td>product 100</td>\n",
       "      <td>F51</td>\n",
       "      <td>2.50</td>\n",
       "      <td>10</td>\n",
       "      <td>2022-09-28 17:29:57.831</td>\n",
       "    </tr>\n",
       "    <tr>\n",
       "      <th>5</th>\n",
       "      <td>6334aec5bcc841c31b475ad2</td>\n",
       "      <td>product 101</td>\n",
       "      <td>F52</td>\n",
       "      <td>3.50</td>\n",
       "      <td>12</td>\n",
       "      <td>2022-09-28 17:29:57.832</td>\n",
       "    </tr>\n",
       "    <tr>\n",
       "      <th>6</th>\n",
       "      <td>6334aec5bcc841c31b475ad3</td>\n",
       "      <td>product 102</td>\n",
       "      <td>F53</td>\n",
       "      <td>4.50</td>\n",
       "      <td>14</td>\n",
       "      <td>2022-09-28 17:29:57.832</td>\n",
       "    </tr>\n",
       "    <tr>\n",
       "      <th>7</th>\n",
       "      <td>6334aec5bcc841c31b475ad4</td>\n",
       "      <td>product 103</td>\n",
       "      <td>F54</td>\n",
       "      <td>5.50</td>\n",
       "      <td>16</td>\n",
       "      <td>2022-09-28 17:29:57.832</td>\n",
       "    </tr>\n",
       "    <tr>\n",
       "      <th>8</th>\n",
       "      <td>6334aec5bcc841c31b475ad5</td>\n",
       "      <td>product 104</td>\n",
       "      <td>F55</td>\n",
       "      <td>6.50</td>\n",
       "      <td>18</td>\n",
       "      <td>2022-09-28 17:29:57.832</td>\n",
       "    </tr>\n",
       "  </tbody>\n",
       "</table>\n",
       "</div>"
      ],
      "text/plain": [
       "                        _id         name code  price  quantity  \\\n",
       "0  6334aec3bcc841c31b475acd    product 1  F21   0.21         6   \n",
       "1  6334aec3bcc841c31b475ace    product 2  F22   0.42         7   \n",
       "2  6334aec3bcc841c31b475acf    product 3  F23   0.63         8   \n",
       "3  6334aec3bcc841c31b475ad0    product 4  F24   0.84         9   \n",
       "4  6334aec5bcc841c31b475ad1  product 100  F51   2.50        10   \n",
       "5  6334aec5bcc841c31b475ad2  product 101  F52   3.50        12   \n",
       "6  6334aec5bcc841c31b475ad3  product 102  F53   4.50        14   \n",
       "7  6334aec5bcc841c31b475ad4  product 103  F54   5.50        16   \n",
       "8  6334aec5bcc841c31b475ad5  product 104  F55   6.50        18   \n",
       "\n",
       "                  created  \n",
       "0 2022-09-28 17:29:55.640  \n",
       "1 2022-09-28 17:29:55.642  \n",
       "2 2022-09-28 17:29:55.644  \n",
       "3 2022-09-28 17:29:55.645  \n",
       "4 2022-09-28 17:29:57.831  \n",
       "5 2022-09-28 17:29:57.832  \n",
       "6 2022-09-28 17:29:57.832  \n",
       "7 2022-09-28 17:29:57.832  \n",
       "8 2022-09-28 17:29:57.832  "
      ]
     },
     "execution_count": 37,
     "metadata": {},
     "output_type": "execute_result"
    }
   ],
   "source": [
    "# load MongoDB table to pandas\n",
    "import pandas as pd\n",
    "\n",
    "products = colproducts.find()\n",
    "df = pd.DataFrame(list(products))\n",
    "df"
   ]
  },
  {
   "cell_type": "code",
   "execution_count": 38,
   "id": "10269c35",
   "metadata": {},
   "outputs": [
    {
     "data": {
      "text/html": [
       "<div>\n",
       "<style scoped>\n",
       "    .dataframe tbody tr th:only-of-type {\n",
       "        vertical-align: middle;\n",
       "    }\n",
       "\n",
       "    .dataframe tbody tr th {\n",
       "        vertical-align: top;\n",
       "    }\n",
       "\n",
       "    .dataframe thead th {\n",
       "        text-align: right;\n",
       "    }\n",
       "</style>\n",
       "<table border=\"1\" class=\"dataframe\">\n",
       "  <thead>\n",
       "    <tr style=\"text-align: right;\">\n",
       "      <th></th>\n",
       "      <th>name</th>\n",
       "      <th>code</th>\n",
       "      <th>price</th>\n",
       "      <th>quantity</th>\n",
       "      <th>created</th>\n",
       "    </tr>\n",
       "  </thead>\n",
       "  <tbody>\n",
       "    <tr>\n",
       "      <th>0</th>\n",
       "      <td>Product A1</td>\n",
       "      <td>E01</td>\n",
       "      <td>2.1</td>\n",
       "      <td>5</td>\n",
       "      <td>2020-10-18 20:12:21</td>\n",
       "    </tr>\n",
       "    <tr>\n",
       "      <th>1</th>\n",
       "      <td>Product A2</td>\n",
       "      <td>E02</td>\n",
       "      <td>3.6</td>\n",
       "      <td>7</td>\n",
       "      <td>2020-10-18 20:12:21</td>\n",
       "    </tr>\n",
       "    <tr>\n",
       "      <th>2</th>\n",
       "      <td>Product A3</td>\n",
       "      <td>E03</td>\n",
       "      <td>3.5</td>\n",
       "      <td>3</td>\n",
       "      <td>2020-10-18 20:12:21</td>\n",
       "    </tr>\n",
       "  </tbody>\n",
       "</table>\n",
       "</div>"
      ],
      "text/plain": [
       "         name code  price  quantity              created\n",
       "0  Product A1  E01    2.1         5  2020-10-18 20:12:21\n",
       "1  Product A2  E02    3.6         7  2020-10-18 20:12:21\n",
       "2  Product A3  E03    3.5         3  2020-10-18 20:12:21"
      ]
     },
     "execution_count": 38,
     "metadata": {},
     "output_type": "execute_result"
    }
   ],
   "source": [
    "# load dataframe\n",
    "products = {'name': ['Product A1', 'Product A2', 'Product A3'],           \n",
    "            'code': ['E01', 'E02', 'E03'],\n",
    "            'price': [2.1, 3.6, 3.5],\n",
    "            'quantity': [5, 7, 3],\n",
    "            'created': ['2020-10-18 20:12:21', '2020-10-18 20:12:21', '2020-10-18 20:12:21']\n",
    "           }\n",
    "\n",
    "dataFrame   = pd.DataFrame(data=products) \n",
    "dataFrame"
   ]
  },
  {
   "cell_type": "code",
   "execution_count": 39,
   "id": "9a4dc003",
   "metadata": {},
   "outputs": [
    {
     "data": {
      "text/plain": [
       "<pymongo.results.InsertManyResult at 0x22dc6a01be0>"
      ]
     },
     "execution_count": 39,
     "metadata": {},
     "output_type": "execute_result"
    }
   ],
   "source": [
    "# insert dataframe to mongodb\n",
    "colexproducts = mydb[\"exproducts\"]\n",
    "data = dataFrame.to_dict(orient='records') \n",
    "colexproducts.insert_many(data)"
   ]
  },
  {
   "cell_type": "code",
   "execution_count": 40,
   "id": "fbde97bb",
   "metadata": {},
   "outputs": [
    {
     "data": {
      "text/html": [
       "<div>\n",
       "<style scoped>\n",
       "    .dataframe tbody tr th:only-of-type {\n",
       "        vertical-align: middle;\n",
       "    }\n",
       "\n",
       "    .dataframe tbody tr th {\n",
       "        vertical-align: top;\n",
       "    }\n",
       "\n",
       "    .dataframe thead th {\n",
       "        text-align: right;\n",
       "    }\n",
       "</style>\n",
       "<table border=\"1\" class=\"dataframe\">\n",
       "  <thead>\n",
       "    <tr style=\"text-align: right;\">\n",
       "      <th></th>\n",
       "      <th>_id</th>\n",
       "      <th>name</th>\n",
       "      <th>code</th>\n",
       "      <th>price</th>\n",
       "      <th>quantity</th>\n",
       "      <th>created</th>\n",
       "    </tr>\n",
       "  </thead>\n",
       "  <tbody>\n",
       "    <tr>\n",
       "      <th>0</th>\n",
       "      <td>6334aed3bcc841c31b475ad6</td>\n",
       "      <td>Product A1</td>\n",
       "      <td>E01</td>\n",
       "      <td>2.1</td>\n",
       "      <td>5</td>\n",
       "      <td>2020-10-18 20:12:21</td>\n",
       "    </tr>\n",
       "    <tr>\n",
       "      <th>1</th>\n",
       "      <td>6334aed3bcc841c31b475ad7</td>\n",
       "      <td>Product A2</td>\n",
       "      <td>E02</td>\n",
       "      <td>3.6</td>\n",
       "      <td>7</td>\n",
       "      <td>2020-10-18 20:12:21</td>\n",
       "    </tr>\n",
       "    <tr>\n",
       "      <th>2</th>\n",
       "      <td>6334aed3bcc841c31b475ad8</td>\n",
       "      <td>Product A3</td>\n",
       "      <td>E03</td>\n",
       "      <td>3.5</td>\n",
       "      <td>3</td>\n",
       "      <td>2020-10-18 20:12:21</td>\n",
       "    </tr>\n",
       "  </tbody>\n",
       "</table>\n",
       "</div>"
      ],
      "text/plain": [
       "                        _id        name code  price  quantity  \\\n",
       "0  6334aed3bcc841c31b475ad6  Product A1  E01    2.1         5   \n",
       "1  6334aed3bcc841c31b475ad7  Product A2  E02    3.6         7   \n",
       "2  6334aed3bcc841c31b475ad8  Product A3  E03    3.5         3   \n",
       "\n",
       "               created  \n",
       "0  2020-10-18 20:12:21  \n",
       "1  2020-10-18 20:12:21  \n",
       "2  2020-10-18 20:12:21  "
      ]
     },
     "execution_count": 40,
     "metadata": {},
     "output_type": "execute_result"
    }
   ],
   "source": [
    "exproducts = colexproducts.find()\n",
    "df = pd.DataFrame(list(exproducts))\n",
    "df"
   ]
  },
  {
   "cell_type": "markdown",
   "id": "98806bdd",
   "metadata": {},
   "source": [
    "## Drop Collections"
   ]
  },
  {
   "cell_type": "code",
   "execution_count": 41,
   "id": "2b6eb3fa",
   "metadata": {},
   "outputs": [
    {
     "name": "stdout",
     "output_type": "stream",
     "text": [
      "done\n"
     ]
    }
   ],
   "source": [
    "# Delete collections\n",
    "colproducts.drop()\n",
    "colexproducts.drop()\n",
    "print('done')"
   ]
  },
  {
   "cell_type": "code",
   "execution_count": 42,
   "id": "a9ae1bc8",
   "metadata": {},
   "outputs": [
    {
     "name": "stdout",
     "output_type": "stream",
     "text": [
      "closed connection\n"
     ]
    }
   ],
   "source": [
    "db.close()\n",
    "print('closed connection')"
   ]
  },
  {
   "cell_type": "code",
   "execution_count": null,
   "id": "deaa7da4",
   "metadata": {},
   "outputs": [],
   "source": []
  }
 ],
 "metadata": {
  "kernelspec": {
   "display_name": "Python 3 (ipykernel)",
   "language": "python",
   "name": "python3"
  },
  "language_info": {
   "codemirror_mode": {
    "name": "ipython",
    "version": 3
   },
   "file_extension": ".py",
   "mimetype": "text/x-python",
   "name": "python",
   "nbconvert_exporter": "python",
   "pygments_lexer": "ipython3",
   "version": "3.9.12"
  }
 },
 "nbformat": 4,
 "nbformat_minor": 5
}
