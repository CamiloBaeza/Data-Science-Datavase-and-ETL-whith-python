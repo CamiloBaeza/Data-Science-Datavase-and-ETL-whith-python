{
 "cells": [
  {
   "cell_type": "code",
   "execution_count": 3,
   "id": "4638b05c",
   "metadata": {},
   "outputs": [
    {
     "data": {
      "text/plain": [
       "['.ipynb_checkpoints', 'datasets', 'Section 2 - Files.ipynb']"
      ]
     },
     "execution_count": 3,
     "metadata": {},
     "output_type": "execute_result"
    }
   ],
   "source": [
    "import os\n",
    "\n",
    "items = os.listdir()\n",
    "items"
   ]
  },
  {
   "cell_type": "code",
   "execution_count": 8,
   "id": "77dce879",
   "metadata": {},
   "outputs": [
    {
     "data": {
      "text/plain": [
       "['advertising.csv',\n",
       " 'advertising.txt',\n",
       " 'advertising.xlsx',\n",
       " 'Boston.csv',\n",
       " 'employees.json',\n",
       " 'employees.txt',\n",
       " 'employees.xml',\n",
       " 'iris.csv',\n",
       " 'new-advertising',\n",
       " 'new-advertising.csv',\n",
       " 'new-advertising.json',\n",
       " 'new-advertising.xlsx',\n",
       " 'new-employees.json',\n",
       " 'new-employees.xml',\n",
       " 'new-employees1.json']"
      ]
     },
     "execution_count": 8,
     "metadata": {},
     "output_type": "execute_result"
    }
   ],
   "source": [
    "items = os.listdir('C:/Users/Camilo Raúl/Desktop/Essential Data Science Datavase and ETL whith python/datasets')\n",
    "items"
   ]
  },
  {
   "cell_type": "code",
   "execution_count": 7,
   "id": "00ae843e",
   "metadata": {},
   "outputs": [
    {
     "data": {
      "text/plain": [
       "['C:/Users/Camilo Raúl/Desktop/Essential Data Science Datavase and ETL whith python\\\\.ipynb_checkpoints',\n",
       " 'C:/Users/Camilo Raúl/Desktop/Essential Data Science Datavase and ETL whith python\\\\datasets',\n",
       " 'C:/Users/Camilo Raúl/Desktop/Essential Data Science Datavase and ETL whith python\\\\Section 2 - Files.ipynb',\n",
       " 'C:/Users/Camilo Raúl/Desktop/Essential Data Science Datavase and ETL whith python\\\\Section+2+-+Files .zip']"
      ]
     },
     "execution_count": 7,
     "metadata": {},
     "output_type": "execute_result"
    }
   ],
   "source": [
    "#get all files and directories with full path\n",
    "\n",
    "mypath= 'C:/Users/Camilo Raúl/Desktop/Essential Data Science Datavase and ETL whith python'\n",
    "items = [os.path.join(mypath,f) for f in os.listdir(mypath)]\n",
    "items\n",
    "\n",
    "#os.path.join(path, *paths)\n",
    "# Join one or more path components intelligently. The return value is the concatenation of path\n",
    "# and any members of *paths with exactly one directory separator following each non-empty part except \n",
    "# the last, meaning that the result will only end in a separator if the last part is empty. If a component \n",
    "# is an absolute path, all previous components are thrown away and joining continues from the absolute path component."
   ]
  },
  {
   "cell_type": "code",
   "execution_count": 12,
   "id": "6f7866cd",
   "metadata": {},
   "outputs": [
    {
     "data": {
      "text/plain": [
       "['Section 2 - Files.ipynb', 'Section+2+-+Files .zip']"
      ]
     },
     "execution_count": 12,
     "metadata": {},
     "output_type": "execute_result"
    }
   ],
   "source": [
    "#get only files from a directory (path.isfile)\n",
    "import os\n",
    "from os import path\n",
    "\n",
    "mypath = 'C:/Users/Camilo Raúl/Desktop/Essential Data Science Datavase and ETL whith python'\n",
    "files = [f for f in os.listdir(mypath) if path.isfile(path.join(mypath,f))]\n",
    "files"
   ]
  },
  {
   "cell_type": "code",
   "execution_count": 18,
   "id": "31d0b365",
   "metadata": {},
   "outputs": [
    {
     "data": {
      "text/plain": [
       "['.ipynb_checkpoints', 'datasets']"
      ]
     },
     "execution_count": 18,
     "metadata": {},
     "output_type": "execute_result"
    }
   ],
   "source": [
    "#get only directories from a directory (path.isdir)\n",
    "import os\n",
    "from os import path\n",
    "\n",
    "mypath = 'C:/Users/Camilo Raúl/Desktop/Essential Data Science Datavase and ETL whith python'\n",
    "files = [f for f in os.listdir(mypath) if path.isdir(path.join(mypath,f))]\n",
    "files"
   ]
  },
  {
   "cell_type": "code",
   "execution_count": 22,
   "id": "8f56a05d",
   "metadata": {},
   "outputs": [
    {
     "data": {
      "text/plain": [
       "['C:/Users/Camilo Raúl/Desktop/Essential Data Science Datavase and ETL whith python/datasets\\\\advertising.csv',\n",
       " 'C:/Users/Camilo Raúl/Desktop/Essential Data Science Datavase and ETL whith python/datasets\\\\Boston.csv',\n",
       " 'C:/Users/Camilo Raúl/Desktop/Essential Data Science Datavase and ETL whith python/datasets\\\\iris.csv',\n",
       " 'C:/Users/Camilo Raúl/Desktop/Essential Data Science Datavase and ETL whith python/datasets\\\\new-advertising.csv']"
      ]
     },
     "execution_count": 22,
     "metadata": {},
     "output_type": "execute_result"
    }
   ],
   "source": [
    "#get files with wildcards\n",
    "# https://docs.python.org/3/library/glob.html\n",
    "import glob\n",
    "lists = glob.glob('C:/Users/Camilo Raúl/Desktop/Essential Data Science Datavase and ETL whith python/datasets/*.csv')\n",
    "lists\n",
    "\n",
    "# glob.glob(pathname, *, root_dir=None, dir_fd=None, recursive=False)\n",
    "# Return a possibly empty list of path names that match pathname, which must be a string containing a \n",
    "# path specification. pathname can be either absolute (like /usr/src/Python-1.5/Makefile) or relative \n",
    "# (like ../../Tools/*/*.gif), and can contain shell-style wildcards. Broken symlinks are included in the results \n",
    "# (as in the shell). Whether or not the results are sorted depends on the file system. If a file that satisfies \n",
    "# conditions is removed or added during the call of this function, whether a path name for that file be included is \n",
    "# unspecified."
   ]
  },
  {
   "cell_type": "code",
   "execution_count": 36,
   "id": "c2fc1b86",
   "metadata": {},
   "outputs": [
    {
     "name": "stdout",
     "output_type": "stream",
     "text": [
      "create a folder\n",
      "C:/Users/Camilo Raúl/Desktop/Essential Data Science Datavase and ETL whith python/datasets/advertising.csv\n",
      "C:/Users/Camilo Raúl/Desktop/Essential Data Science Datavase and ETL whith python/datasets/advertising.txt\n",
      "C:/Users/Camilo Raúl/Desktop/Essential Data Science Datavase and ETL whith python/datasets/advertising.xlsx\n",
      "C:/Users/Camilo Raúl/Desktop/Essential Data Science Datavase and ETL whith python/datasets/Boston.csv\n",
      "C:/Users/Camilo Raúl/Desktop/Essential Data Science Datavase and ETL whith python/datasets/employees.json\n",
      "C:/Users/Camilo Raúl/Desktop/Essential Data Science Datavase and ETL whith python/datasets/employees.txt\n",
      "C:/Users/Camilo Raúl/Desktop/Essential Data Science Datavase and ETL whith python/datasets/employees.xml\n",
      "C:/Users/Camilo Raúl/Desktop/Essential Data Science Datavase and ETL whith python/datasets/iris.csv\n",
      "C:/Users/Camilo Raúl/Desktop/Essential Data Science Datavase and ETL whith python/datasets/new-advertising\n",
      "C:/Users/Camilo Raúl/Desktop/Essential Data Science Datavase and ETL whith python/datasets/new-advertising.csv\n",
      "C:/Users/Camilo Raúl/Desktop/Essential Data Science Datavase and ETL whith python/datasets/new-advertising.json\n",
      "C:/Users/Camilo Raúl/Desktop/Essential Data Science Datavase and ETL whith python/datasets/new-advertising.xlsx\n",
      "C:/Users/Camilo Raúl/Desktop/Essential Data Science Datavase and ETL whith python/datasets/new-employees.json\n",
      "C:/Users/Camilo Raúl/Desktop/Essential Data Science Datavase and ETL whith python/datasets/new-employees.xml\n",
      "C:/Users/Camilo Raúl/Desktop/Essential Data Science Datavase and ETL whith python/datasets/new-employees1.json\n",
      "C:/Users/Camilo Raúl/Desktop/Essential Data Science Datavase and ETL whith python/datasets/newfolder\n",
      "\n",
      "copy file\n",
      "C:/Users/Camilo Raúl/Desktop/Essential Data Science Datavase and ETL whith python/datasets/newfolder\\advertising.txt\n",
      "\n",
      "rename file\n",
      "C:/Users/Camilo Raúl/Desktop/Essential Data Science Datavase and ETL whith python/datasets/newfolder\\advertising2.txt\n",
      "\n",
      "move file\n",
      "C:/Users/Camilo Raúl/Desktop/Essential Data Science Datavase and ETL whith python/datasets/newfolder\\advertising5.txt\n",
      "\n",
      "delete a file\n",
      "delete folder\n",
      "C:/Users/Camilo Raúl/Desktop/Essential Data Science Datavase and ETL whith python/datasets/advertising.csv\n",
      "C:/Users/Camilo Raúl/Desktop/Essential Data Science Datavase and ETL whith python/datasets/advertising.txt\n",
      "C:/Users/Camilo Raúl/Desktop/Essential Data Science Datavase and ETL whith python/datasets/advertising.xlsx\n",
      "C:/Users/Camilo Raúl/Desktop/Essential Data Science Datavase and ETL whith python/datasets/Boston.csv\n",
      "C:/Users/Camilo Raúl/Desktop/Essential Data Science Datavase and ETL whith python/datasets/employees.json\n",
      "C:/Users/Camilo Raúl/Desktop/Essential Data Science Datavase and ETL whith python/datasets/employees.txt\n",
      "C:/Users/Camilo Raúl/Desktop/Essential Data Science Datavase and ETL whith python/datasets/employees.xml\n",
      "C:/Users/Camilo Raúl/Desktop/Essential Data Science Datavase and ETL whith python/datasets/iris.csv\n",
      "C:/Users/Camilo Raúl/Desktop/Essential Data Science Datavase and ETL whith python/datasets/new-advertising\n",
      "C:/Users/Camilo Raúl/Desktop/Essential Data Science Datavase and ETL whith python/datasets/new-advertising.csv\n",
      "C:/Users/Camilo Raúl/Desktop/Essential Data Science Datavase and ETL whith python/datasets/new-advertising.json\n",
      "C:/Users/Camilo Raúl/Desktop/Essential Data Science Datavase and ETL whith python/datasets/new-advertising.xlsx\n",
      "C:/Users/Camilo Raúl/Desktop/Essential Data Science Datavase and ETL whith python/datasets/new-employees.json\n",
      "C:/Users/Camilo Raúl/Desktop/Essential Data Science Datavase and ETL whith python/datasets/new-employees.xml\n",
      "C:/Users/Camilo Raúl/Desktop/Essential Data Science Datavase and ETL whith python/datasets/new-employees1.json\n"
     ]
    }
   ],
   "source": [
    "import os\n",
    "import shutil\n",
    "\n",
    "def listing(mypath):\n",
    "    items = [os.path.join(mypath,f) for f in os.listdir(mypath)]\n",
    "    for item in items:\n",
    "        print(item)\n",
    "        \n",
    "#create a folder\n",
    "print('create a folder')\n",
    "dir_path ='C:/Users/Camilo Raúl/Desktop/Essential Data Science Datavase and ETL whith python/datasets/newfolder'\n",
    "if not os.path.exists(dir_path):\n",
    "    os.makedirs(dir_path)\n",
    "    \n",
    "listing('C:/Users/Camilo Raúl/Desktop/Essential Data Science Datavase and ETL whith python/datasets/')   \n",
    "print()\n",
    "\n",
    "#copy file\n",
    "print('copy file')\n",
    "source = 'C:/Users/Camilo Raúl/Desktop/Essential Data Science Datavase and ETL whith python/datasets/advertising.txt'\n",
    "destination = 'C:/Users/Camilo Raúl/Desktop/Essential Data Science Datavase and ETL whith python/datasets/newfolder'\n",
    "shutil.copy(source,destination)\n",
    "listing('C:/Users/Camilo Raúl/Desktop/Essential Data Science Datavase and ETL whith python/datasets/newfolder')\n",
    "print()\n",
    "\n",
    "#rename file\n",
    "print('rename file')\n",
    "os.rename('C:/Users/Camilo Raúl/Desktop/Essential Data Science Datavase and ETL whith python/datasets/newfolder/advertising.txt', 'C:/Users/Camilo Raúl/Desktop/Essential Data Science Datavase and ETL whith python/datasets/newfolder/advertising2.txt')\n",
    "listing('C:/Users/Camilo Raúl/Desktop/Essential Data Science Datavase and ETL whith python/datasets/newfolder')\n",
    "print()\n",
    "\n",
    "#move file\n",
    "print('move file')\n",
    "shutil.move('C:/Users/Camilo Raúl/Desktop/Essential Data Science Datavase and ETL whith python/datasets/newfolder/advertising2.txt','C:/Users/Camilo Raúl/Desktop/Essential Data Science Datavase and ETL whith python/datasets/newfolder/advertising5.txt')\n",
    "listing('C:/Users/Camilo Raúl/Desktop/Essential Data Science Datavase and ETL whith python/datasets/newfolder')\n",
    "print()\n",
    "\n",
    "#delete a file\n",
    "print('delete a file')\n",
    "os.remove('C:/Users/Camilo Raúl/Desktop/Essential Data Science Datavase and ETL whith python/datasets/newfolder/advertising5.txt')\n",
    "listing('C:/Users/Camilo Raúl/Desktop/Essential Data Science Datavase and ETL whith python/datasets/newfolder')\n",
    "\n",
    "#delete folder\n",
    "print('delete folder')\n",
    "shutil.rmtree(dir_path)\n",
    "listing('C:/Users/Camilo Raúl/Desktop/Essential Data Science Datavase and ETL whith python/datasets/')\n"
   ]
  },
  {
   "cell_type": "code",
   "execution_count": null,
   "id": "3af2802a",
   "metadata": {},
   "outputs": [],
   "source": []
  }
 ],
 "metadata": {
  "kernelspec": {
   "display_name": "Python 3 (ipykernel)",
   "language": "python",
   "name": "python3"
  },
  "language_info": {
   "codemirror_mode": {
    "name": "ipython",
    "version": 3
   },
   "file_extension": ".py",
   "mimetype": "text/x-python",
   "name": "python",
   "nbconvert_exporter": "python",
   "pygments_lexer": "ipython3",
   "version": "3.9.12"
  }
 },
 "nbformat": 4,
 "nbformat_minor": 5
}
