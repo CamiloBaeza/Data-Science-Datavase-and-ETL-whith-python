{
 "cells": [
  {
   "cell_type": "markdown",
   "metadata": {},
   "source": [
    "## Demo MongoDB\n",
    "In this section, we learn how to manipulate data on MongoDB.\n",
    "\n",
    "Required:\n",
    "pip install pymongo\n",
    "\n",
    "We cover:\n",
    "* CRUD operations\n",
    "* Table to Dataframe"
   ]
  },
  {
   "cell_type": "code",
   "execution_count": 1,
   "metadata": {},
   "outputs": [
    {
     "name": "stdout",
     "output_type": "stream",
     "text": [
      "Collecting pymongo\n",
      "  Downloading pymongo-3.11.3-cp38-cp38-manylinux2014_x86_64.whl (531 kB)\n",
      "\u001b[K     |████████████████████████████████| 531 kB 20.1 MB/s eta 0:00:01\n",
      "\u001b[?25hInstalling collected packages: pymongo\n",
      "Successfully installed pymongo-3.11.3\n"
     ]
    }
   ],
   "source": [
    "!pip3 install pymongo"
   ]
  },
  {
   "cell_type": "markdown",
   "metadata": {},
   "source": [
    "### CRUD - MongoDB"
   ]
  },
  {
   "cell_type": "code",
   "execution_count": 1,
   "metadata": {},
   "outputs": [
    {
     "data": {
      "text/plain": [
       "'3.11.3'"
      ]
     },
     "execution_count": 1,
     "metadata": {},
     "output_type": "execute_result"
    }
   ],
   "source": [
    "import pymongo\n",
    "from datetime import datetime\n",
    "\n",
    "pymongo.__version__"
   ]
  },
  {
   "cell_type": "code",
   "execution_count": 23,
   "metadata": {},
   "outputs": [
    {
     "name": "stdout",
     "output_type": "stream",
     "text": [
      "connecting to MongoDB server...\n",
      "connected\n"
     ]
    }
   ],
   "source": [
    "print('connecting to MongoDB server...')\n",
    "db = pymongo.MongoClient(\"mongodb://localhost:27017/\")\n",
    "\n",
    "print('connected')"
   ]
  },
  {
   "cell_type": "code",
   "execution_count": 24,
   "metadata": {},
   "outputs": [],
   "source": [
    "# create database. MongoDB does not create a database until we create content\n",
    "mydb = db[\"pydb\"]"
   ]
  },
  {
   "cell_type": "code",
   "execution_count": 25,
   "metadata": {},
   "outputs": [
    {
     "data": {
      "text/plain": [
       "['admin', 'config', 'local', 'pydb']"
      ]
     },
     "execution_count": 25,
     "metadata": {},
     "output_type": "execute_result"
    }
   ],
   "source": [
    "dbs = db.list_database_names()\n",
    "dbs"
   ]
  },
  {
   "cell_type": "code",
   "execution_count": 26,
   "metadata": {},
   "outputs": [],
   "source": [
    "# create collection ~ table\n",
    "# a collection is not created until it gets content\n",
    "colproducts = mydb[\"products\"]"
   ]
  },
  {
   "cell_type": "code",
   "execution_count": 6,
   "metadata": {},
   "outputs": [
    {
     "data": {
      "text/plain": [
       "[]"
      ]
     },
     "execution_count": 6,
     "metadata": {},
     "output_type": "execute_result"
    }
   ],
   "source": [
    "# listing of collections\n",
    "colls = mydb.list_collection_names()\n",
    "colls"
   ]
  },
  {
   "cell_type": "code",
   "execution_count": 7,
   "metadata": {},
   "outputs": [],
   "source": [
    "def create_data(coll):\n",
    "    print('inserting data...')\n",
    "    for i in range(1,5):\n",
    "        product = {\n",
    "            \"name\": \"product \" + str(i),\n",
    "            \"code\": \"F2\" + str(i),\n",
    "            \"price\": i*0.21,\n",
    "            \"quantity\": i + 5,\n",
    "            \"created\": datetime.now()\n",
    "        }       \n",
    "        item = coll.insert_one(product)\n",
    "        inserted_id = item.inserted_id\n",
    "        print('inserted with id=',inserted_id)\n",
    "\n",
    "    print('done')"
   ]
  },
  {
   "cell_type": "code",
   "execution_count": 27,
   "metadata": {},
   "outputs": [
    {
     "name": "stdout",
     "output_type": "stream",
     "text": [
      "inserting data...\n",
      "inserted with id= 605eb4f976a73e4d36b8d50a\n",
      "inserted with id= 605eb4f976a73e4d36b8d50b\n",
      "inserted with id= 605eb4f976a73e4d36b8d50c\n",
      "inserted with id= 605eb4f976a73e4d36b8d50d\n",
      "done\n"
     ]
    }
   ],
   "source": [
    "create_data(colproducts)"
   ]
  },
  {
   "cell_type": "code",
   "execution_count": 9,
   "metadata": {},
   "outputs": [
    {
     "name": "stdout",
     "output_type": "stream",
     "text": [
      "[ObjectId('605eb42976a73e4d36b8d504'), ObjectId('605eb42976a73e4d36b8d505'), ObjectId('605eb42976a73e4d36b8d506'), ObjectId('605eb42976a73e4d36b8d507'), ObjectId('605eb42976a73e4d36b8d508')]\n"
     ]
    }
   ],
   "source": [
    "# insert multiple data\n",
    "products = [\n",
    "    {\"name\": \"product 100\",\"code\": \"F51\",\"price\": 2.5,\"quantity\": 10,\"created\": datetime.now()},\n",
    "    {\"name\": \"product 101\",\"code\": \"F52\",\"price\": 3.5,\"quantity\": 12,\"created\": datetime.now()},\n",
    "    {\"name\": \"product 102\",\"code\": \"F53\",\"price\": 4.5,\"quantity\": 14,\"created\": datetime.now()},\n",
    "    {\"name\": \"product 103\",\"code\": \"F54\",\"price\": 5.5,\"quantity\": 16,\"created\": datetime.now()},\n",
    "    {\"name\": \"product 104\",\"code\": \"F55\",\"price\": 6.5,\"quantity\": 18,\"created\": datetime.now()},\n",
    "]\n",
    "\n",
    "items = colproducts.insert_many(products)\n",
    "print(items.inserted_ids)"
   ]
  },
  {
   "cell_type": "code",
   "execution_count": 10,
   "metadata": {},
   "outputs": [],
   "source": [
    "def read_data(coll):\n",
    "    print('reading data....')\n",
    "    selected_id = None\n",
    "    for item in coll.find():\n",
    "        print(\"{}, {}, {}, {}, {}, {:%d %b %Y %H:%M:%S}\".format(\n",
    "                item['_id'], item['name'], item['code'], item['price'], item['quantity'], item['created']))\n",
    "        if selected_id is None:\n",
    "            selected_id = item['_id']\n",
    "\n",
    "    print('done')\n",
    "    return selected_id"
   ]
  },
  {
   "cell_type": "code",
   "execution_count": 11,
   "metadata": {},
   "outputs": [
    {
     "name": "stdout",
     "output_type": "stream",
     "text": [
      "reading data....\n",
      "605eb41676a73e4d36b8d500, product 1, F21, 0.21, 6, 27 Mar 2021 04:27:02\n",
      "605eb41676a73e4d36b8d501, product 2, F22, 0.42, 7, 27 Mar 2021 04:27:02\n",
      "605eb41676a73e4d36b8d502, product 3, F23, 0.63, 8, 27 Mar 2021 04:27:02\n",
      "605eb41676a73e4d36b8d503, product 4, F24, 0.84, 9, 27 Mar 2021 04:27:02\n",
      "605eb42976a73e4d36b8d504, product 100, F51, 2.5, 10, 27 Mar 2021 04:27:21\n",
      "605eb42976a73e4d36b8d505, product 101, F52, 3.5, 12, 27 Mar 2021 04:27:21\n",
      "605eb42976a73e4d36b8d506, product 102, F53, 4.5, 14, 27 Mar 2021 04:27:21\n",
      "605eb42976a73e4d36b8d507, product 103, F54, 5.5, 16, 27 Mar 2021 04:27:21\n",
      "605eb42976a73e4d36b8d508, product 104, F55, 6.5, 18, 27 Mar 2021 04:27:21\n",
      "done\n"
     ]
    }
   ],
   "source": [
    "selected_id = read_data(colproducts)"
   ]
  },
  {
   "cell_type": "code",
   "execution_count": 12,
   "metadata": {},
   "outputs": [
    {
     "data": {
      "text/plain": [
       "ObjectId('605eb41676a73e4d36b8d500')"
      ]
     },
     "execution_count": 12,
     "metadata": {},
     "output_type": "execute_result"
    }
   ],
   "source": [
    "selected_id"
   ]
  },
  {
   "cell_type": "code",
   "execution_count": 13,
   "metadata": {},
   "outputs": [],
   "source": [
    "def update_data(coll, id):\n",
    "    print('updating data with idproduct=', id, '...')\n",
    "    updated_data = {\n",
    "        \"price\": \"9.99\",\n",
    "        \"quantity\": 100\n",
    "    }\n",
    "    coll.update_one({\"_id\":id},{\"$set\":updated_data})    \n",
    "    print('done')"
   ]
  },
  {
   "cell_type": "code",
   "execution_count": 14,
   "metadata": {},
   "outputs": [
    {
     "name": "stdout",
     "output_type": "stream",
     "text": [
      "updating data with idproduct= 605eb41676a73e4d36b8d500 ...\n",
      "done\n"
     ]
    }
   ],
   "source": [
    "update_data(colproducts, selected_id)"
   ]
  },
  {
   "cell_type": "code",
   "execution_count": 15,
   "metadata": {},
   "outputs": [
    {
     "name": "stdout",
     "output_type": "stream",
     "text": [
      "reading data....\n",
      "605eb41676a73e4d36b8d500, product 1, F21, 9.99, 100, 27 Mar 2021 04:27:02\n",
      "605eb41676a73e4d36b8d501, product 2, F22, 0.42, 7, 27 Mar 2021 04:27:02\n",
      "605eb41676a73e4d36b8d502, product 3, F23, 0.63, 8, 27 Mar 2021 04:27:02\n",
      "605eb41676a73e4d36b8d503, product 4, F24, 0.84, 9, 27 Mar 2021 04:27:02\n",
      "605eb42976a73e4d36b8d504, product 100, F51, 2.5, 10, 27 Mar 2021 04:27:21\n",
      "605eb42976a73e4d36b8d505, product 101, F52, 3.5, 12, 27 Mar 2021 04:27:21\n",
      "605eb42976a73e4d36b8d506, product 102, F53, 4.5, 14, 27 Mar 2021 04:27:21\n",
      "605eb42976a73e4d36b8d507, product 103, F54, 5.5, 16, 27 Mar 2021 04:27:21\n",
      "605eb42976a73e4d36b8d508, product 104, F55, 6.5, 18, 27 Mar 2021 04:27:21\n",
      "done\n"
     ]
    },
    {
     "data": {
      "text/plain": [
       "ObjectId('605eb41676a73e4d36b8d500')"
      ]
     },
     "execution_count": 15,
     "metadata": {},
     "output_type": "execute_result"
    }
   ],
   "source": [
    "read_data(colproducts)"
   ]
  },
  {
   "cell_type": "code",
   "execution_count": 16,
   "metadata": {},
   "outputs": [],
   "source": [
    "def delete_data(coll, id):\n",
    "    print('deleting data on idproduct=', id, '...')\n",
    "    coll.delete_one({\"_id\":id})    \n",
    "    print('done')"
   ]
  },
  {
   "cell_type": "code",
   "execution_count": 17,
   "metadata": {},
   "outputs": [
    {
     "name": "stdout",
     "output_type": "stream",
     "text": [
      "deleting data on idproduct= 605eb41676a73e4d36b8d500 ...\n",
      "done\n"
     ]
    }
   ],
   "source": [
    "delete_data(colproducts, selected_id)"
   ]
  },
  {
   "cell_type": "code",
   "execution_count": 18,
   "metadata": {},
   "outputs": [
    {
     "name": "stdout",
     "output_type": "stream",
     "text": [
      "reading data....\n",
      "605eb41676a73e4d36b8d501, product 2, F22, 0.42, 7, 27 Mar 2021 04:27:02\n",
      "605eb41676a73e4d36b8d502, product 3, F23, 0.63, 8, 27 Mar 2021 04:27:02\n",
      "605eb41676a73e4d36b8d503, product 4, F24, 0.84, 9, 27 Mar 2021 04:27:02\n",
      "605eb42976a73e4d36b8d504, product 100, F51, 2.5, 10, 27 Mar 2021 04:27:21\n",
      "605eb42976a73e4d36b8d505, product 101, F52, 3.5, 12, 27 Mar 2021 04:27:21\n",
      "605eb42976a73e4d36b8d506, product 102, F53, 4.5, 14, 27 Mar 2021 04:27:21\n",
      "605eb42976a73e4d36b8d507, product 103, F54, 5.5, 16, 27 Mar 2021 04:27:21\n",
      "605eb42976a73e4d36b8d508, product 104, F55, 6.5, 18, 27 Mar 2021 04:27:21\n",
      "done\n"
     ]
    },
    {
     "data": {
      "text/plain": [
       "ObjectId('605eb41676a73e4d36b8d501')"
      ]
     },
     "execution_count": 18,
     "metadata": {},
     "output_type": "execute_result"
    }
   ],
   "source": [
    "read_data(colproducts)"
   ]
  },
  {
   "cell_type": "code",
   "execution_count": 19,
   "metadata": {},
   "outputs": [],
   "source": [
    "def delete_all(coll):\n",
    "    print('deleting all data....')\n",
    "    items = coll.delete_many({})\n",
    "    print(items.deleted_count, \" documents deleted.\")\n",
    "    print('done')"
   ]
  },
  {
   "cell_type": "code",
   "execution_count": 20,
   "metadata": {},
   "outputs": [
    {
     "name": "stdout",
     "output_type": "stream",
     "text": [
      "deleting all data....\n",
      "8  documents deleted.\n",
      "done\n"
     ]
    }
   ],
   "source": [
    "delete_all(colproducts)"
   ]
  },
  {
   "cell_type": "code",
   "execution_count": 21,
   "metadata": {},
   "outputs": [
    {
     "name": "stdout",
     "output_type": "stream",
     "text": [
      "reading data....\n",
      "done\n"
     ]
    }
   ],
   "source": [
    "read_data(colproducts)"
   ]
  },
  {
   "cell_type": "code",
   "execution_count": 22,
   "metadata": {},
   "outputs": [
    {
     "name": "stdout",
     "output_type": "stream",
     "text": [
      "closed connection\n"
     ]
    }
   ],
   "source": [
    "db.close()\n",
    "print('closed connection')"
   ]
  },
  {
   "cell_type": "markdown",
   "metadata": {},
   "source": [
    "## MongoDB - Pandas\n",
    "\n",
    "\n",
    "sqlalchemy does not support for NoSQL like MongoDB"
   ]
  },
  {
   "cell_type": "code",
   "execution_count": 28,
   "metadata": {},
   "outputs": [
    {
     "data": {
      "text/html": [
       "<div>\n",
       "<style scoped>\n",
       "    .dataframe tbody tr th:only-of-type {\n",
       "        vertical-align: middle;\n",
       "    }\n",
       "\n",
       "    .dataframe tbody tr th {\n",
       "        vertical-align: top;\n",
       "    }\n",
       "\n",
       "    .dataframe thead th {\n",
       "        text-align: right;\n",
       "    }\n",
       "</style>\n",
       "<table border=\"1\" class=\"dataframe\">\n",
       "  <thead>\n",
       "    <tr style=\"text-align: right;\">\n",
       "      <th></th>\n",
       "      <th>_id</th>\n",
       "      <th>name</th>\n",
       "      <th>code</th>\n",
       "      <th>price</th>\n",
       "      <th>quantity</th>\n",
       "      <th>created</th>\n",
       "    </tr>\n",
       "  </thead>\n",
       "  <tbody>\n",
       "    <tr>\n",
       "      <th>0</th>\n",
       "      <td>605eb4f976a73e4d36b8d50a</td>\n",
       "      <td>product 1</td>\n",
       "      <td>F21</td>\n",
       "      <td>0.21</td>\n",
       "      <td>6</td>\n",
       "      <td>2021-03-27 04:30:49.732</td>\n",
       "    </tr>\n",
       "    <tr>\n",
       "      <th>1</th>\n",
       "      <td>605eb4f976a73e4d36b8d50b</td>\n",
       "      <td>product 2</td>\n",
       "      <td>F22</td>\n",
       "      <td>0.42</td>\n",
       "      <td>7</td>\n",
       "      <td>2021-03-27 04:30:49.737</td>\n",
       "    </tr>\n",
       "    <tr>\n",
       "      <th>2</th>\n",
       "      <td>605eb4f976a73e4d36b8d50c</td>\n",
       "      <td>product 3</td>\n",
       "      <td>F23</td>\n",
       "      <td>0.63</td>\n",
       "      <td>8</td>\n",
       "      <td>2021-03-27 04:30:49.738</td>\n",
       "    </tr>\n",
       "    <tr>\n",
       "      <th>3</th>\n",
       "      <td>605eb4f976a73e4d36b8d50d</td>\n",
       "      <td>product 4</td>\n",
       "      <td>F24</td>\n",
       "      <td>0.84</td>\n",
       "      <td>9</td>\n",
       "      <td>2021-03-27 04:30:49.740</td>\n",
       "    </tr>\n",
       "  </tbody>\n",
       "</table>\n",
       "</div>"
      ],
      "text/plain": [
       "                        _id       name code  price  quantity  \\\n",
       "0  605eb4f976a73e4d36b8d50a  product 1  F21   0.21         6   \n",
       "1  605eb4f976a73e4d36b8d50b  product 2  F22   0.42         7   \n",
       "2  605eb4f976a73e4d36b8d50c  product 3  F23   0.63         8   \n",
       "3  605eb4f976a73e4d36b8d50d  product 4  F24   0.84         9   \n",
       "\n",
       "                  created  \n",
       "0 2021-03-27 04:30:49.732  \n",
       "1 2021-03-27 04:30:49.737  \n",
       "2 2021-03-27 04:30:49.738  \n",
       "3 2021-03-27 04:30:49.740  "
      ]
     },
     "execution_count": 28,
     "metadata": {},
     "output_type": "execute_result"
    }
   ],
   "source": [
    "# load MongoDB table to pandas\n",
    "import pandas as pd\n",
    "\n",
    "products = colproducts.find()\n",
    "df = pd.DataFrame(list(products))\n",
    "df"
   ]
  },
  {
   "cell_type": "code",
   "execution_count": 29,
   "metadata": {},
   "outputs": [
    {
     "data": {
      "text/html": [
       "<div>\n",
       "<style scoped>\n",
       "    .dataframe tbody tr th:only-of-type {\n",
       "        vertical-align: middle;\n",
       "    }\n",
       "\n",
       "    .dataframe tbody tr th {\n",
       "        vertical-align: top;\n",
       "    }\n",
       "\n",
       "    .dataframe thead th {\n",
       "        text-align: right;\n",
       "    }\n",
       "</style>\n",
       "<table border=\"1\" class=\"dataframe\">\n",
       "  <thead>\n",
       "    <tr style=\"text-align: right;\">\n",
       "      <th></th>\n",
       "      <th>name</th>\n",
       "      <th>code</th>\n",
       "      <th>price</th>\n",
       "      <th>quantity</th>\n",
       "      <th>created</th>\n",
       "    </tr>\n",
       "  </thead>\n",
       "  <tbody>\n",
       "    <tr>\n",
       "      <th>0</th>\n",
       "      <td>Product A1</td>\n",
       "      <td>E01</td>\n",
       "      <td>2.1</td>\n",
       "      <td>5</td>\n",
       "      <td>2020-10-18 20:12:21</td>\n",
       "    </tr>\n",
       "    <tr>\n",
       "      <th>1</th>\n",
       "      <td>Product A2</td>\n",
       "      <td>E02</td>\n",
       "      <td>3.6</td>\n",
       "      <td>7</td>\n",
       "      <td>2020-10-18 20:12:21</td>\n",
       "    </tr>\n",
       "    <tr>\n",
       "      <th>2</th>\n",
       "      <td>Product A3</td>\n",
       "      <td>E03</td>\n",
       "      <td>3.5</td>\n",
       "      <td>3</td>\n",
       "      <td>2020-10-18 20:12:21</td>\n",
       "    </tr>\n",
       "  </tbody>\n",
       "</table>\n",
       "</div>"
      ],
      "text/plain": [
       "         name code  price  quantity              created\n",
       "0  Product A1  E01    2.1         5  2020-10-18 20:12:21\n",
       "1  Product A2  E02    3.6         7  2020-10-18 20:12:21\n",
       "2  Product A3  E03    3.5         3  2020-10-18 20:12:21"
      ]
     },
     "execution_count": 29,
     "metadata": {},
     "output_type": "execute_result"
    }
   ],
   "source": [
    "# load dataframe\n",
    "products = {'name': ['Product A1', 'Product A2', 'Product A3'],           \n",
    "            'code': ['E01', 'E02', 'E03'],\n",
    "            'price': [2.1, 3.6, 3.5],\n",
    "            'quantity': [5, 7, 3],\n",
    "            'created': ['2020-10-18 20:12:21', '2020-10-18 20:12:21', '2020-10-18 20:12:21']\n",
    "           }\n",
    "\n",
    "dataFrame   = pd.DataFrame(data=products) \n",
    "dataFrame"
   ]
  },
  {
   "cell_type": "code",
   "execution_count": 30,
   "metadata": {},
   "outputs": [
    {
     "data": {
      "text/plain": [
       "<pymongo.results.InsertManyResult at 0x7f983c37ef80>"
      ]
     },
     "execution_count": 30,
     "metadata": {},
     "output_type": "execute_result"
    }
   ],
   "source": [
    "# insert dataframe to mongodb\n",
    "colexproducts = mydb[\"exproducts\"]\n",
    "data = dataFrame.to_dict(orient='records') \n",
    "colexproducts.insert_many(data)"
   ]
  },
  {
   "cell_type": "code",
   "execution_count": 31,
   "metadata": {},
   "outputs": [
    {
     "data": {
      "text/html": [
       "<div>\n",
       "<style scoped>\n",
       "    .dataframe tbody tr th:only-of-type {\n",
       "        vertical-align: middle;\n",
       "    }\n",
       "\n",
       "    .dataframe tbody tr th {\n",
       "        vertical-align: top;\n",
       "    }\n",
       "\n",
       "    .dataframe thead th {\n",
       "        text-align: right;\n",
       "    }\n",
       "</style>\n",
       "<table border=\"1\" class=\"dataframe\">\n",
       "  <thead>\n",
       "    <tr style=\"text-align: right;\">\n",
       "      <th></th>\n",
       "      <th>_id</th>\n",
       "      <th>name</th>\n",
       "      <th>code</th>\n",
       "      <th>price</th>\n",
       "      <th>quantity</th>\n",
       "      <th>created</th>\n",
       "    </tr>\n",
       "  </thead>\n",
       "  <tbody>\n",
       "    <tr>\n",
       "      <th>0</th>\n",
       "      <td>605eb53876a73e4d36b8d50e</td>\n",
       "      <td>Product A1</td>\n",
       "      <td>E01</td>\n",
       "      <td>2.1</td>\n",
       "      <td>5</td>\n",
       "      <td>2020-10-18 20:12:21</td>\n",
       "    </tr>\n",
       "    <tr>\n",
       "      <th>1</th>\n",
       "      <td>605eb53876a73e4d36b8d50f</td>\n",
       "      <td>Product A2</td>\n",
       "      <td>E02</td>\n",
       "      <td>3.6</td>\n",
       "      <td>7</td>\n",
       "      <td>2020-10-18 20:12:21</td>\n",
       "    </tr>\n",
       "    <tr>\n",
       "      <th>2</th>\n",
       "      <td>605eb53876a73e4d36b8d510</td>\n",
       "      <td>Product A3</td>\n",
       "      <td>E03</td>\n",
       "      <td>3.5</td>\n",
       "      <td>3</td>\n",
       "      <td>2020-10-18 20:12:21</td>\n",
       "    </tr>\n",
       "  </tbody>\n",
       "</table>\n",
       "</div>"
      ],
      "text/plain": [
       "                        _id        name code  price  quantity  \\\n",
       "0  605eb53876a73e4d36b8d50e  Product A1  E01    2.1         5   \n",
       "1  605eb53876a73e4d36b8d50f  Product A2  E02    3.6         7   \n",
       "2  605eb53876a73e4d36b8d510  Product A3  E03    3.5         3   \n",
       "\n",
       "               created  \n",
       "0  2020-10-18 20:12:21  \n",
       "1  2020-10-18 20:12:21  \n",
       "2  2020-10-18 20:12:21  "
      ]
     },
     "execution_count": 31,
     "metadata": {},
     "output_type": "execute_result"
    }
   ],
   "source": [
    "exproducts = colexproducts.find()\n",
    "df = pd.DataFrame(list(exproducts))\n",
    "df"
   ]
  },
  {
   "cell_type": "markdown",
   "metadata": {},
   "source": [
    "## Drop Collections"
   ]
  },
  {
   "cell_type": "code",
   "execution_count": 32,
   "metadata": {},
   "outputs": [
    {
     "name": "stdout",
     "output_type": "stream",
     "text": [
      "done\n"
     ]
    }
   ],
   "source": [
    "# Delete collections\n",
    "colproducts.drop()\n",
    "colexproducts.drop()\n",
    "print('done')"
   ]
  },
  {
   "cell_type": "code",
   "execution_count": 33,
   "metadata": {},
   "outputs": [
    {
     "name": "stdout",
     "output_type": "stream",
     "text": [
      "closed connection\n"
     ]
    }
   ],
   "source": [
    "db.close()\n",
    "print('closed connection')"
   ]
  },
  {
   "cell_type": "code",
   "execution_count": null,
   "metadata": {},
   "outputs": [],
   "source": []
  }
 ],
 "metadata": {
  "kernelspec": {
   "display_name": "Python 3",
   "language": "python",
   "name": "python3"
  },
  "language_info": {
   "codemirror_mode": {
    "name": "ipython",
    "version": 3
   },
   "file_extension": ".py",
   "mimetype": "text/x-python",
   "name": "python",
   "nbconvert_exporter": "python",
   "pygments_lexer": "ipython3",
   "version": "3.8.5"
  }
 },
 "nbformat": 4,
 "nbformat_minor": 4
}
