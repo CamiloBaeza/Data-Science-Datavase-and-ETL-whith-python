{
 "cells": [
  {
   "cell_type": "markdown",
   "metadata": {},
   "source": [
    "## Demo Cassandra\n",
    "In this section, we learn how to manipulate data on Cassandra.\n",
    "\n",
    "Required:\n",
    "pip install cassandra-driver\n",
    "\n",
    "We cover:\n",
    "* CRUD operations\n",
    "* Table to Dataframe\n",
    "\n",
    "Documentation: https://docs.datastax.com/en/developer/python-driver/3.25/"
   ]
  },
  {
   "cell_type": "code",
   "execution_count": 1,
   "metadata": {},
   "outputs": [
    {
     "name": "stdout",
     "output_type": "stream",
     "text": [
      "Requirement already satisfied: cassandra-driver in /home/agusk/.local/lib/python3.8/site-packages (3.25.0)\r\n",
      "Requirement already satisfied: six>=1.9 in /home/agusk/.local/lib/python3.8/site-packages (from cassandra-driver) (1.15.0)\r\n",
      "Requirement already satisfied: geomet<0.3,>=0.1 in /home/agusk/.local/lib/python3.8/site-packages (from cassandra-driver) (0.2.1.post1)\r\n",
      "Requirement already satisfied: click in /usr/lib/python3/dist-packages (from geomet<0.3,>=0.1->cassandra-driver) (7.0)\r\n"
     ]
    }
   ],
   "source": [
    "!pip3 install cassandra-driver"
   ]
  },
  {
   "cell_type": "markdown",
   "metadata": {},
   "source": [
    "### CRUD - Cassandra"
   ]
  },
  {
   "cell_type": "code",
   "execution_count": 1,
   "metadata": {},
   "outputs": [],
   "source": [
    "from cassandra.cluster import Cluster\n",
    "from cassandra import ConsistencyLevel\n",
    "from cassandra.query import SimpleStatement, BatchStatement\n",
    "from datetime import datetime\n",
    "from uuid import uuid1, uuid4"
   ]
  },
  {
   "cell_type": "code",
   "execution_count": 2,
   "metadata": {},
   "outputs": [],
   "source": [
    "def create_connection():    \n",
    "    cluster = Cluster(['127.0.0.1'],protocol_version=3)\n",
    "    session = cluster.connect()\n",
    "    return session"
   ]
  },
  {
   "cell_type": "code",
   "execution_count": 3,
   "metadata": {},
   "outputs": [
    {
     "name": "stdout",
     "output_type": "stream",
     "text": [
      "connected\n"
     ]
    }
   ],
   "source": [
    "session = create_connection()\n",
    "print('connected')"
   ]
  },
  {
   "cell_type": "code",
   "execution_count": 4,
   "metadata": {},
   "outputs": [],
   "source": [
    "# create keyspaces\n",
    "def create_keyspaces(session):\n",
    "    session.execute(\"\"\"\n",
    "        CREATE KEYSPACE IF NOT EXISTS pydb\n",
    "        WITH replication = { 'class': 'SimpleStrategy', 'replication_factor': '1' }\n",
    "        \"\"\")\n",
    "\n",
    "    print(\"setting keyspace...\")\n",
    "    session.set_keyspace(\"pydb\")\n",
    "    print(\"done\")"
   ]
  },
  {
   "cell_type": "code",
   "execution_count": 5,
   "metadata": {},
   "outputs": [
    {
     "name": "stdout",
     "output_type": "stream",
     "text": [
      "setting keyspace...\n",
      "done\n"
     ]
    }
   ],
   "source": [
    "create_keyspaces(session)"
   ]
  },
  {
   "cell_type": "code",
   "execution_count": 6,
   "metadata": {},
   "outputs": [
    {
     "name": "stdout",
     "output_type": "stream",
     "text": [
      "created a table\n"
     ]
    }
   ],
   "source": [
    "# create table\n",
    "\n",
    "session.execute(\"\"\"\n",
    "    CREATE TABLE IF NOT EXISTS product (\n",
    "        id uuid,\n",
    "        name text,\n",
    "        quantity int,\n",
    "        price float,\n",
    "        created timestamp,\n",
    "        PRIMARY KEY (id)\n",
    "    )\n",
    "    \"\"\")\n",
    "\n",
    "print('created a table')"
   ]
  },
  {
   "cell_type": "code",
   "execution_count": 7,
   "metadata": {},
   "outputs": [],
   "source": [
    "# insert data\n",
    "\n",
    "def insert_data(session):    \n",
    "    for i in range(5):        \n",
    "        id = i + 1\n",
    "        now = datetime.utcnow()\n",
    "        v4_uuid = uuid4()\n",
    "        session.execute(\"\"\"\n",
    "            INSERT INTO product (id, name, quantity, price, created) \n",
    "            VALUES(%s, %s, %s, %s, %s)\n",
    "        \"\"\",  (v4_uuid, \"product \" + str(id), 2 + 3*i, 1.2+2.3*i, now)            \n",
    "        )\n",
    "    print('inserted data')"
   ]
  },
  {
   "cell_type": "code",
   "execution_count": 8,
   "metadata": {},
   "outputs": [
    {
     "name": "stdout",
     "output_type": "stream",
     "text": [
      "inserted data\n"
     ]
    }
   ],
   "source": [
    "insert_data(session)"
   ]
  },
  {
   "cell_type": "code",
   "execution_count": 9,
   "metadata": {},
   "outputs": [],
   "source": [
    "# read all\n",
    "\n",
    "def read_all(session):\n",
    "    id = None\n",
    "    rows = session.execute('SELECT id, name, quantity, price, created FROM product')\n",
    "    for row in rows:\n",
    "        print(row.id,\"|\", row.name,\"|\", row.quantity,\"|\", \"{:.2f}\".format(row.price),\"|\", row.created)\n",
    "        if id == None:\n",
    "            id = row.id\n",
    "    \n",
    "    return id    "
   ]
  },
  {
   "cell_type": "code",
   "execution_count": 10,
   "metadata": {},
   "outputs": [
    {
     "name": "stdout",
     "output_type": "stream",
     "text": [
      "392d4ffe-319e-42c8-892f-16ec1f00b501 | product 3 | 8 | 5.80 | 2021-04-05 10:47:52.655000\n",
      "b08b7ef3-e6cb-44d6-bf57-d21e48a34be0 | product 1 | 2 | 1.20 | 2021-04-05 10:47:52.584000\n",
      "221fd48c-f2d9-465b-a4fa-5ca6f761af85 | product 5 | 14 | 10.40 | 2021-04-05 10:47:52.659000\n",
      "e4e233bf-ff8e-4372-9a02-8ca821155970 | product 4 | 11 | 8.10 | 2021-04-05 10:47:52.657000\n",
      "cebac8ca-84a3-4e7e-b095-c39a3ef68f3b | product 2 | 5 | 3.50 | 2021-04-05 10:47:52.652000\n"
     ]
    }
   ],
   "source": [
    "selected_id = read_all(session)"
   ]
  },
  {
   "cell_type": "code",
   "execution_count": 11,
   "metadata": {},
   "outputs": [],
   "source": [
    "# update data\n",
    "def update_data(session,id):    \n",
    "    updated_name = \"updated-product\"\n",
    "    quantity = 99\n",
    "    price = 9.99\n",
    "    session.execute(\"\"\"\n",
    "        UPDATE product SET name=%s, quantity=%s, price=%s \n",
    "        WHERE id=%s\n",
    "    \"\"\",  (updated_name, quantity, price, id)            \n",
    "    )\n",
    "    print('updated data')"
   ]
  },
  {
   "cell_type": "code",
   "execution_count": 12,
   "metadata": {},
   "outputs": [
    {
     "name": "stdout",
     "output_type": "stream",
     "text": [
      "updated data\n",
      "392d4ffe-319e-42c8-892f-16ec1f00b501 | updated-product | 99 | 9.99 | 2021-04-05 10:47:52.655000\n",
      "b08b7ef3-e6cb-44d6-bf57-d21e48a34be0 | product 1 | 2 | 1.20 | 2021-04-05 10:47:52.584000\n",
      "221fd48c-f2d9-465b-a4fa-5ca6f761af85 | product 5 | 14 | 10.40 | 2021-04-05 10:47:52.659000\n",
      "e4e233bf-ff8e-4372-9a02-8ca821155970 | product 4 | 11 | 8.10 | 2021-04-05 10:47:52.657000\n",
      "cebac8ca-84a3-4e7e-b095-c39a3ef68f3b | product 2 | 5 | 3.50 | 2021-04-05 10:47:52.652000\n"
     ]
    },
    {
     "data": {
      "text/plain": [
       "UUID('392d4ffe-319e-42c8-892f-16ec1f00b501')"
      ]
     },
     "execution_count": 12,
     "metadata": {},
     "output_type": "execute_result"
    }
   ],
   "source": [
    "update_data(session, selected_id)\n",
    "\n",
    "# verification\n",
    "read_all(session)"
   ]
  },
  {
   "cell_type": "code",
   "execution_count": 13,
   "metadata": {},
   "outputs": [],
   "source": [
    "# delete data\n",
    "\n",
    "def delete_data(session,id):    \n",
    "\n",
    "    session.execute(\"\"\"\n",
    "        DELETE FROM product WHERE id=%s\n",
    "    \"\"\",  (id,)            \n",
    "    )\n",
    "    print('deleted data')"
   ]
  },
  {
   "cell_type": "code",
   "execution_count": 14,
   "metadata": {},
   "outputs": [
    {
     "name": "stdout",
     "output_type": "stream",
     "text": [
      "deleted data\n",
      "b08b7ef3-e6cb-44d6-bf57-d21e48a34be0 | product 1 | 2 | 1.20 | 2021-04-05 10:47:52.584000\n",
      "221fd48c-f2d9-465b-a4fa-5ca6f761af85 | product 5 | 14 | 10.40 | 2021-04-05 10:47:52.659000\n",
      "e4e233bf-ff8e-4372-9a02-8ca821155970 | product 4 | 11 | 8.10 | 2021-04-05 10:47:52.657000\n",
      "cebac8ca-84a3-4e7e-b095-c39a3ef68f3b | product 2 | 5 | 3.50 | 2021-04-05 10:47:52.652000\n"
     ]
    },
    {
     "data": {
      "text/plain": [
       "UUID('b08b7ef3-e6cb-44d6-bf57-d21e48a34be0')"
      ]
     },
     "execution_count": 14,
     "metadata": {},
     "output_type": "execute_result"
    }
   ],
   "source": [
    "delete_data(session, selected_id)\n",
    "\n",
    "# verification\n",
    "read_all(session)"
   ]
  },
  {
   "cell_type": "code",
   "execution_count": 15,
   "metadata": {},
   "outputs": [],
   "source": [
    "# delete all data\n",
    "\n",
    "def delete_all_data(session):    \n",
    "\n",
    "    session.execute(\"TRUNCATE product\")\n",
    "    print('deleted all data')"
   ]
  },
  {
   "cell_type": "code",
   "execution_count": 16,
   "metadata": {},
   "outputs": [
    {
     "name": "stdout",
     "output_type": "stream",
     "text": [
      "deleted all data\n"
     ]
    }
   ],
   "source": [
    "delete_all_data(session)\n",
    "\n",
    "# verification\n",
    "read_all(session)"
   ]
  },
  {
   "cell_type": "markdown",
   "metadata": {},
   "source": [
    "## Cassandra - Pandas\n",
    "\n",
    "\n",
    "sqlalchemy does not support for NoSQL like Redis"
   ]
  },
  {
   "cell_type": "code",
   "execution_count": 17,
   "metadata": {},
   "outputs": [
    {
     "name": "stdout",
     "output_type": "stream",
     "text": [
      "inserted data\n",
      "data loaded\n"
     ]
    }
   ],
   "source": [
    "# prepara data\n",
    "insert_data(session)\n",
    "print('data loaded')    "
   ]
  },
  {
   "cell_type": "code",
   "execution_count": 18,
   "metadata": {},
   "outputs": [
    {
     "data": {
      "text/html": [
       "<div>\n",
       "<style scoped>\n",
       "    .dataframe tbody tr th:only-of-type {\n",
       "        vertical-align: middle;\n",
       "    }\n",
       "\n",
       "    .dataframe tbody tr th {\n",
       "        vertical-align: top;\n",
       "    }\n",
       "\n",
       "    .dataframe thead th {\n",
       "        text-align: right;\n",
       "    }\n",
       "</style>\n",
       "<table border=\"1\" class=\"dataframe\">\n",
       "  <thead>\n",
       "    <tr style=\"text-align: right;\">\n",
       "      <th></th>\n",
       "      <th>id</th>\n",
       "      <th>name</th>\n",
       "      <th>quantity</th>\n",
       "      <th>price</th>\n",
       "      <th>created</th>\n",
       "    </tr>\n",
       "  </thead>\n",
       "  <tbody>\n",
       "    <tr>\n",
       "      <th>0</th>\n",
       "      <td>b9356d5a-8a08-41fd-9010-6afa2f60fc74</td>\n",
       "      <td>product 2</td>\n",
       "      <td>5</td>\n",
       "      <td>3.5</td>\n",
       "      <td>2021-04-05 10:49:34.599</td>\n",
       "    </tr>\n",
       "    <tr>\n",
       "      <th>1</th>\n",
       "      <td>543ae2f9-551b-4413-ba00-d1a031059336</td>\n",
       "      <td>product 1</td>\n",
       "      <td>2</td>\n",
       "      <td>1.2</td>\n",
       "      <td>2021-04-05 10:49:34.593</td>\n",
       "    </tr>\n",
       "    <tr>\n",
       "      <th>2</th>\n",
       "      <td>ce5e8cc4-2f6f-4818-a07c-7e959a2220ef</td>\n",
       "      <td>product 3</td>\n",
       "      <td>8</td>\n",
       "      <td>5.8</td>\n",
       "      <td>2021-04-05 10:49:34.604</td>\n",
       "    </tr>\n",
       "    <tr>\n",
       "      <th>3</th>\n",
       "      <td>5de8d6d8-39c8-4a8c-a1f5-e9b65148dbc2</td>\n",
       "      <td>product 4</td>\n",
       "      <td>11</td>\n",
       "      <td>8.1</td>\n",
       "      <td>2021-04-05 10:49:34.607</td>\n",
       "    </tr>\n",
       "    <tr>\n",
       "      <th>4</th>\n",
       "      <td>0db24278-1bc5-4a84-89d5-40c014a73557</td>\n",
       "      <td>product 5</td>\n",
       "      <td>14</td>\n",
       "      <td>10.4</td>\n",
       "      <td>2021-04-05 10:49:34.609</td>\n",
       "    </tr>\n",
       "  </tbody>\n",
       "</table>\n",
       "</div>"
      ],
      "text/plain": [
       "                                     id       name  quantity  price  \\\n",
       "0  b9356d5a-8a08-41fd-9010-6afa2f60fc74  product 2         5    3.5   \n",
       "1  543ae2f9-551b-4413-ba00-d1a031059336  product 1         2    1.2   \n",
       "2  ce5e8cc4-2f6f-4818-a07c-7e959a2220ef  product 3         8    5.8   \n",
       "3  5de8d6d8-39c8-4a8c-a1f5-e9b65148dbc2  product 4        11    8.1   \n",
       "4  0db24278-1bc5-4a84-89d5-40c014a73557  product 5        14   10.4   \n",
       "\n",
       "                  created  \n",
       "0 2021-04-05 10:49:34.599  \n",
       "1 2021-04-05 10:49:34.593  \n",
       "2 2021-04-05 10:49:34.604  \n",
       "3 2021-04-05 10:49:34.607  \n",
       "4 2021-04-05 10:49:34.609  "
      ]
     },
     "execution_count": 18,
     "metadata": {},
     "output_type": "execute_result"
    }
   ],
   "source": [
    "# load Cassandra to pandas\n",
    "import pandas as pd\n",
    "\n",
    "rows = session.execute('SELECT id, name, quantity, price, created FROM product')\n",
    "    \n",
    "df = pd.DataFrame(list(rows))\n",
    "df"
   ]
  },
  {
   "cell_type": "code",
   "execution_count": 19,
   "metadata": {},
   "outputs": [
    {
     "data": {
      "text/html": [
       "<div>\n",
       "<style scoped>\n",
       "    .dataframe tbody tr th:only-of-type {\n",
       "        vertical-align: middle;\n",
       "    }\n",
       "\n",
       "    .dataframe tbody tr th {\n",
       "        vertical-align: top;\n",
       "    }\n",
       "\n",
       "    .dataframe thead th {\n",
       "        text-align: right;\n",
       "    }\n",
       "</style>\n",
       "<table border=\"1\" class=\"dataframe\">\n",
       "  <thead>\n",
       "    <tr style=\"text-align: right;\">\n",
       "      <th></th>\n",
       "      <th>name</th>\n",
       "      <th>code</th>\n",
       "      <th>price</th>\n",
       "      <th>quantity</th>\n",
       "      <th>created</th>\n",
       "    </tr>\n",
       "  </thead>\n",
       "  <tbody>\n",
       "    <tr>\n",
       "      <th>0</th>\n",
       "      <td>Product A1</td>\n",
       "      <td>E01</td>\n",
       "      <td>2.1</td>\n",
       "      <td>5</td>\n",
       "      <td>2020-10-18 20:12:21</td>\n",
       "    </tr>\n",
       "    <tr>\n",
       "      <th>1</th>\n",
       "      <td>Product A2</td>\n",
       "      <td>E02</td>\n",
       "      <td>3.6</td>\n",
       "      <td>7</td>\n",
       "      <td>2020-10-18 20:12:21</td>\n",
       "    </tr>\n",
       "    <tr>\n",
       "      <th>2</th>\n",
       "      <td>Product A3</td>\n",
       "      <td>E03</td>\n",
       "      <td>3.5</td>\n",
       "      <td>3</td>\n",
       "      <td>2020-10-18 20:12:21</td>\n",
       "    </tr>\n",
       "  </tbody>\n",
       "</table>\n",
       "</div>"
      ],
      "text/plain": [
       "         name code  price  quantity              created\n",
       "0  Product A1  E01    2.1         5  2020-10-18 20:12:21\n",
       "1  Product A2  E02    3.6         7  2020-10-18 20:12:21\n",
       "2  Product A3  E03    3.5         3  2020-10-18 20:12:21"
      ]
     },
     "execution_count": 19,
     "metadata": {},
     "output_type": "execute_result"
    }
   ],
   "source": [
    "# load dataframe\n",
    "products = {'name': ['Product A1', 'Product A2', 'Product A3'],           \n",
    "            'code': ['E01', 'E02', 'E03'],\n",
    "            'price': [2.1, 3.6, 3.5],\n",
    "            'quantity': [5, 7, 3],\n",
    "            'created': ['2020-10-18 20:12:21', '2020-10-18 20:12:21', '2020-10-18 20:12:21']\n",
    "           }\n",
    "\n",
    "dataFrame   = pd.DataFrame(data=products) \n",
    "dataFrame"
   ]
  },
  {
   "cell_type": "code",
   "execution_count": 20,
   "metadata": {},
   "outputs": [
    {
     "name": "stdout",
     "output_type": "stream",
     "text": [
      "bulk insert data\n"
     ]
    }
   ],
   "source": [
    "# insert dataframe to Cassandra\n",
    "\n",
    "# create table - a primary key is required in Cassandra\n",
    "session.execute(\"\"\"\n",
    "    CREATE TABLE IF NOT EXISTS exproduct (\n",
    "        id uuid,\n",
    "        name text,\n",
    "        quantity int,\n",
    "        price float,\n",
    "        created timestamp,\n",
    "        PRIMARY KEY (id)\n",
    "    )\n",
    "    \"\"\")\n",
    "\n",
    "# # prepare insert statement\n",
    "prepared_inserted = session.prepare('INSERT INTO exproduct(id,name,quantity,price,created) VALUES (?, ?, ?, ?, ?)')\n",
    "batch = BatchStatement(consistency_level=ConsistencyLevel.QUORUM)\n",
    "\n",
    "for item in dataFrame.itertuples():\n",
    "    created = datetime.strptime(item.created, '%Y-%m-%d %H:%M:%S')\n",
    "    batch.add(prepared_inserted,(uuid4(), item.name, item.quantity, item.price, created))\n",
    "\n",
    "# execute\n",
    "session.execute(batch)\n",
    "print('bulk insert data')"
   ]
  },
  {
   "cell_type": "code",
   "execution_count": 21,
   "metadata": {},
   "outputs": [
    {
     "data": {
      "text/html": [
       "<div>\n",
       "<style scoped>\n",
       "    .dataframe tbody tr th:only-of-type {\n",
       "        vertical-align: middle;\n",
       "    }\n",
       "\n",
       "    .dataframe tbody tr th {\n",
       "        vertical-align: top;\n",
       "    }\n",
       "\n",
       "    .dataframe thead th {\n",
       "        text-align: right;\n",
       "    }\n",
       "</style>\n",
       "<table border=\"1\" class=\"dataframe\">\n",
       "  <thead>\n",
       "    <tr style=\"text-align: right;\">\n",
       "      <th></th>\n",
       "      <th>name</th>\n",
       "      <th>quantity</th>\n",
       "      <th>price</th>\n",
       "      <th>created</th>\n",
       "    </tr>\n",
       "  </thead>\n",
       "  <tbody>\n",
       "    <tr>\n",
       "      <th>0</th>\n",
       "      <td>Product A1</td>\n",
       "      <td>5</td>\n",
       "      <td>2.1</td>\n",
       "      <td>2020-10-18 20:12:21</td>\n",
       "    </tr>\n",
       "    <tr>\n",
       "      <th>1</th>\n",
       "      <td>Product A2</td>\n",
       "      <td>7</td>\n",
       "      <td>3.6</td>\n",
       "      <td>2020-10-18 20:12:21</td>\n",
       "    </tr>\n",
       "    <tr>\n",
       "      <th>2</th>\n",
       "      <td>Product A3</td>\n",
       "      <td>3</td>\n",
       "      <td>3.5</td>\n",
       "      <td>2020-10-18 20:12:21</td>\n",
       "    </tr>\n",
       "  </tbody>\n",
       "</table>\n",
       "</div>"
      ],
      "text/plain": [
       "         name  quantity  price             created\n",
       "0  Product A1         5    2.1 2020-10-18 20:12:21\n",
       "1  Product A2         7    3.6 2020-10-18 20:12:21\n",
       "2  Product A3         3    3.5 2020-10-18 20:12:21"
      ]
     },
     "execution_count": 21,
     "metadata": {},
     "output_type": "execute_result"
    }
   ],
   "source": [
    "# retrieve data \n",
    "rows = session.execute('SELECT name, quantity, price, created FROM exproduct')\n",
    "    \n",
    "df = pd.DataFrame(list(rows))\n",
    "df"
   ]
  },
  {
   "cell_type": "markdown",
   "metadata": {},
   "source": [
    "## Drop Keys"
   ]
  },
  {
   "cell_type": "code",
   "execution_count": 22,
   "metadata": {},
   "outputs": [
    {
     "name": "stdout",
     "output_type": "stream",
     "text": [
      "done\n"
     ]
    }
   ],
   "source": [
    "# Delete keys\n",
    "session.execute(\"DROP KEYSPACE pydb\")\n",
    "print('done')"
   ]
  },
  {
   "cell_type": "code",
   "execution_count": 23,
   "metadata": {},
   "outputs": [],
   "source": [
    "# close connection\n",
    "session.shutdown()"
   ]
  },
  {
   "cell_type": "code",
   "execution_count": null,
   "metadata": {},
   "outputs": [],
   "source": []
  }
 ],
 "metadata": {
  "kernelspec": {
   "display_name": "Python 3",
   "language": "python",
   "name": "python3"
  },
  "language_info": {
   "codemirror_mode": {
    "name": "ipython",
    "version": 3
   },
   "file_extension": ".py",
   "mimetype": "text/x-python",
   "name": "python",
   "nbconvert_exporter": "python",
   "pygments_lexer": "ipython3",
   "version": "3.8.5"
  }
 },
 "nbformat": 4,
 "nbformat_minor": 4
}
